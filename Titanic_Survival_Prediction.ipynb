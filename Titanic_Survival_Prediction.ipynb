{
  "nbformat": 4,
  "nbformat_minor": 0,
  "metadata": {
    "colab": {
      "provenance": []
    },
    "kernelspec": {
      "name": "python3",
      "display_name": "Python 3"
    },
    "language_info": {
      "name": "python"
    }
  },
  "cells": [
    {
      "cell_type": "code",
      "execution_count": 1,
      "metadata": {
        "id": "I_q4ldFRdorh"
      },
      "outputs": [],
      "source": [
        "import pandas as pd\n",
        "titanic_data = pd.read_csv('Titanic-Dataset.csv')"
      ]
    },
    {
      "cell_type": "code",
      "source": [
        "data = titanic_data[['Survived','Pclass','Sex','Age','Fare','Cabin']]"
      ],
      "metadata": {
        "id": "GTZ4DXRRa1kp"
      },
      "execution_count": 2,
      "outputs": []
    },
    {
      "cell_type": "code",
      "source": [
        "categorical_columns = []\n",
        "numerical_columns = []\n",
        "\n",
        "for column in data.columns:\n",
        "    if data[column].dtype == 'object' or column == 'Survived':\n",
        "        categorical_columns.append(column)\n",
        "    else:\n",
        "        numerical_columns.append(column)"
      ],
      "metadata": {
        "id": "E2zSbYUweuSn"
      },
      "execution_count": 3,
      "outputs": []
    },
    {
      "cell_type": "code",
      "source": [
        "data.isnull().any()"
      ],
      "metadata": {
        "colab": {
          "base_uri": "https://localhost:8080/"
        },
        "id": "3rMlfSwMfE1Z",
        "outputId": "f9cf1e3b-d38c-4fcb-d279-2757fea2bd90"
      },
      "execution_count": 4,
      "outputs": [
        {
          "output_type": "execute_result",
          "data": {
            "text/plain": [
              "Survived    False\n",
              "Pclass      False\n",
              "Sex         False\n",
              "Age          True\n",
              "Fare        False\n",
              "Cabin        True\n",
              "dtype: bool"
            ]
          },
          "metadata": {},
          "execution_count": 4
        }
      ]
    },
    {
      "cell_type": "code",
      "source": [
        "data.fillna(0,inplace=True)"
      ],
      "metadata": {
        "id": "7IJJzItVfIfu",
        "colab": {
          "base_uri": "https://localhost:8080/"
        },
        "outputId": "68964e93-6de0-4000-b86f-748442b82767"
      },
      "execution_count": 5,
      "outputs": [
        {
          "output_type": "stream",
          "name": "stderr",
          "text": [
            "<ipython-input-5-964390382314>:1: SettingWithCopyWarning: \n",
            "A value is trying to be set on a copy of a slice from a DataFrame\n",
            "\n",
            "See the caveats in the documentation: https://pandas.pydata.org/pandas-docs/stable/user_guide/indexing.html#returning-a-view-versus-a-copy\n",
            "  data.fillna(0,inplace=True)\n"
          ]
        }
      ]
    },
    {
      "cell_type": "code",
      "source": [
        "data.isnull().any()"
      ],
      "metadata": {
        "colab": {
          "base_uri": "https://localhost:8080/"
        },
        "id": "xZH5HImrjHq4",
        "outputId": "2fc64a9a-8b00-4186-fa30-1d853fdd0f84"
      },
      "execution_count": 6,
      "outputs": [
        {
          "output_type": "execute_result",
          "data": {
            "text/plain": [
              "Survived    False\n",
              "Pclass      False\n",
              "Sex         False\n",
              "Age         False\n",
              "Fare        False\n",
              "Cabin       False\n",
              "dtype: bool"
            ]
          },
          "metadata": {},
          "execution_count": 6
        }
      ]
    },
    {
      "cell_type": "code",
      "source": [
        "import seaborn as sns\n",
        "import matplotlib.pyplot as plt"
      ],
      "metadata": {
        "id": "OjtkKz0GfNC_"
      },
      "execution_count": 7,
      "outputs": []
    },
    {
      "cell_type": "code",
      "source": [
        "def outlier(str,column):\n",
        "  plt.figure(figsize=(8,6))\n",
        "  sns.boxplot(data[column])\n",
        "  plt.show()\n"
      ],
      "metadata": {
        "id": "H1-PBWztfSJ_"
      },
      "execution_count": 8,
      "outputs": []
    },
    {
      "cell_type": "code",
      "source": [
        "for column in numerical_columns:\n",
        "  print(\"Before Removing Outliers\")\n",
        "\n",
        "  outlier('Before Outlier',column)\n",
        "\n",
        "  print(\"After Removing Outliers\")\n",
        "\n",
        "  q1 = data[column].quantile(0.25)\n",
        "  q3 = data[column].quantile(0.75)\n",
        "  iqr = q3-q1\n",
        "  lb = q1 - 1.5 * iqr\n",
        "  ub = q3 + 1.5 * iqr\n",
        "  data.loc[(data[column] < lb),column] = lb\n",
        "  data.loc[(data[column] > ub),column] = ub\n",
        "\n",
        "  outlier('After Outlier',column)"
      ],
      "metadata": {
        "colab": {
          "base_uri": "https://localhost:8080/",
          "height": 1000
        },
        "id": "DaLIGMAOf0gA",
        "outputId": "a2196098-4279-4c25-a17f-5403287c4f80"
      },
      "execution_count": 9,
      "outputs": [
        {
          "output_type": "stream",
          "name": "stdout",
          "text": [
            "Before Removing Outliers\n"
          ]
        },
        {
          "output_type": "display_data",
          "data": {
            "text/plain": [
              "<Figure size 800x600 with 1 Axes>"
            ],
            "image/png": "[encoded data removed]"
          },
          "metadata": {}
        },
        {
          "output_type": "stream",
          "name": "stdout",
          "text": [
            "After Removing Outliers\n"
          ]
        },
        {
          "output_type": "display_data",
          "data": {
            "text/plain": [
              "<Figure size 800x600 with 1 Axes>"
            ],
            "image/png": "[encoded data removed]"
          },
          "metadata": {}
        },
        {
          "output_type": "stream",
          "name": "stdout",
          "text": [
            "Before Removing Outliers\n"
          ]
        },
        {
          "output_type": "display_data",
          "data": {
            "text/plain": [
              "<Figure size 800x600 with 1 Axes>"
            ],
            "image/png": "[encoded data removed]"
          },
          "metadata": {}
        },
        {
          "output_type": "stream",
          "name": "stdout",
          "text": [
            "After Removing Outliers\n"
          ]
        },
        {
          "output_type": "display_data",
          "data": {
            "text/plain": [
              "<Figure size 800x600 with 1 Axes>"
            ],
            "image/png": "[encoded data removed]"
          },
          "metadata": {}
        },
        {
          "output_type": "stream",
          "name": "stdout",
          "text": [
            "Before Removing Outliers\n"
          ]
        },
        {
          "output_type": "display_data",
          "data": {
            "text/plain": [
              "<Figure size 800x600 with 1 Axes>"
            ],
            "image/png": "[encoded data removed]"
          },
          "metadata": {}
        },
        {
          "output_type": "stream",
          "name": "stdout",
          "text": [
            "After Removing Outliers\n"
          ]
        },
        {
          "output_type": "display_data",
          "data": {
            "text/plain": [
              "<Figure size 800x600 with 1 Axes>"
            ],
            "image/png": "[encoded data removed]"
          },
          "metadata": {}
        }
      ]
    },
    {
      "cell_type": "code",
      "source": [
        "bins = [0, 12, 18, 35, 60, 80]\n",
        "labels = ['0-12', '13-18', '19-35', '36-60', '61-80']\n",
        "\n",
        "data['Age Group'] = pd.cut(data['Age'], bins=bins, labels=labels, right=False)\n",
        "\n",
        "age_group_survival = data[data['Survived'] == 1]['Age Group'].value_counts().sort_index()\n",
        "\n",
        "age_group_survival = age_group_survival.reindex(labels, fill_value=0)\n",
        "\n",
        "age_group_survival = age_group_survival.fillna(0)"
      ],
      "metadata": {
        "colab": {
          "base_uri": "https://localhost:8080/"
        },
        "id": "1ZMsGg1w5M-q",
        "outputId": "8793e416-612b-4a43-f1fc-6a55b08bd6b8"
      },
      "execution_count": 10,
      "outputs": [
        {
          "output_type": "stream",
          "name": "stderr",
          "text": [
            "<ipython-input-10-f9a3972d2324>:4: SettingWithCopyWarning: \n",
            "A value is trying to be set on a copy of a slice from a DataFrame.\n",
            "Try using .loc[row_indexer,col_indexer] = value instead\n",
            "\n",
            "See the caveats in the documentation: https://pandas.pydata.org/pandas-docs/stable/user_guide/indexing.html#returning-a-view-versus-a-copy\n",
            "  data['Age Group'] = pd.cut(data['Age'], bins=bins, labels=labels, right=False)\n"
          ]
        }
      ]
    },
    {
      "cell_type": "code",
      "source": [
        "data['Survived'] = data['Survived'].astype(str)\n",
        "data.info()"
      ],
      "metadata": {
        "colab": {
          "base_uri": "https://localhost:8080/"
        },
        "id": "ojK7ySD2VR1M",
        "outputId": "360d14e6-7248-4505-aee6-0dab951c9204"
      },
      "execution_count": 11,
      "outputs": [
        {
          "output_type": "stream",
          "name": "stdout",
          "text": [
            "<class 'pandas.core.frame.DataFrame'>\n",
            "RangeIndex: 891 entries, 0 to 890\n",
            "Data columns (total 7 columns):\n",
            " #   Column     Non-Null Count  Dtype   \n",
            "---  ------     --------------  -----   \n",
            " 0   Survived   891 non-null    object  \n",
            " 1   Pclass     891 non-null    float64 \n",
            " 2   Sex        891 non-null    object  \n",
            " 3   Age        891 non-null    float64 \n",
            " 4   Fare       891 non-null    float64 \n",
            " 5   Cabin      891 non-null    object  \n",
            " 6   Age Group  891 non-null    category\n",
            "dtypes: category(1), float64(3), object(3)\n",
            "memory usage: 43.0+ KB\n"
          ]
        },
        {
          "output_type": "stream",
          "name": "stderr",
          "text": [
            "<ipython-input-11-0eb1e3922811>:1: SettingWithCopyWarning: \n",
            "A value is trying to be set on a copy of a slice from a DataFrame.\n",
            "Try using .loc[row_indexer,col_indexer] = value instead\n",
            "\n",
            "See the caveats in the documentation: https://pandas.pydata.org/pandas-docs/stable/user_guide/indexing.html#returning-a-view-versus-a-copy\n",
            "  data['Survived'] = data['Survived'].astype(str)\n"
          ]
        }
      ]
    },
    {
      "cell_type": "code",
      "source": [
        "from sklearn.linear_model import LogisticRegression\n",
        "from sklearn.neighbors import KNeighborsClassifier\n",
        "from sklearn.svm import SVC\n",
        "from sklearn.tree import DecisionTreeClassifier\n",
        "from sklearn.ensemble import RandomForestClassifier, GradientBoostingClassifier, AdaBoostClassifier\n",
        "from sklearn.naive_bayes import GaussianNB\n",
        "from sklearn.neural_network import MLPClassifier\n",
        "import xgboost as xgb\n"
      ],
      "metadata": {
        "id": "RyeeG4h-TeUk"
      },
      "execution_count": 12,
      "outputs": []
    },
    {
      "cell_type": "code",
      "source": [
        "from sklearn.model_selection import train_test_split\n",
        "from sklearn.metrics import accuracy_score, confusion_matrix, classification_report,ConfusionMatrixDisplay,precision_recall_curve, roc_curve, roc_auc_score,auc\n",
        "from sklearn.preprocessing import StandardScaler,LabelEncoder\n"
      ],
      "metadata": {
        "id": "-8X1O5mJTnON"
      },
      "execution_count": 13,
      "outputs": []
    },
    {
      "cell_type": "code",
      "source": [
        "encoding= {}\n",
        "encoder = LabelEncoder()\n",
        "\n",
        "for column in categorical_columns:\n",
        "  data[column] = data[column].astype(str)\n",
        "  data[column] = encoder.fit_transform(data[column])\n",
        "  encoding[column] = dict(zip(map(str.lower,encoder.classes_),encoder.transform(encoder.classes_)))\n",
        "  print(f\"{column} : {encoding[column]}\")\n"
      ],
      "metadata": {
        "colab": {
          "base_uri": "https://localhost:8080/"
        },
        "id": "my-QdAKmVUMT",
        "outputId": "c54698fb-cc82-47e0-8611-28d81696140b"
      },
      "execution_count": 14,
      "outputs": [
        {
          "output_type": "stream",
          "name": "stdout",
          "text": [
            "Survived : {'0': 0, '1': 1}\n",
            "Sex : {'female': 0, 'male': 1}\n",
            "Cabin : {'0': 0, 'a10': 1, 'a14': 2, 'a16': 3, 'a19': 4, 'a20': 5, 'a23': 6, 'a24': 7, 'a26': 8, 'a31': 9, 'a32': 10, 'a34': 11, 'a36': 12, 'a5': 13, 'a6': 14, 'a7': 15, 'b101': 16, 'b102': 17, 'b18': 18, 'b19': 19, 'b20': 20, 'b22': 21, 'b28': 22, 'b3': 23, 'b30': 24, 'b35': 25, 'b37': 26, 'b38': 27, 'b39': 28, 'b4': 29, 'b41': 30, 'b42': 31, 'b49': 32, 'b5': 33, 'b50': 34, 'b51 b53 b55': 35, 'b57 b59 b63 b66': 36, 'b58 b60': 37, 'b69': 38, 'b71': 39, 'b73': 40, 'b77': 41, 'b78': 42, 'b79': 43, 'b80': 44, 'b82 b84': 45, 'b86': 46, 'b94': 47, 'b96 b98': 48, 'c101': 49, 'c103': 50, 'c104': 51, 'c106': 52, 'c110': 53, 'c111': 54, 'c118': 55, 'c123': 56, 'c124': 57, 'c125': 58, 'c126': 59, 'c128': 60, 'c148': 61, 'c2': 62, 'c22 c26': 63, 'c23 c25 c27': 64, 'c30': 65, 'c32': 66, 'c45': 67, 'c46': 68, 'c47': 69, 'c49': 70, 'c50': 71, 'c52': 72, 'c54': 73, 'c62 c64': 74, 'c65': 75, 'c68': 76, 'c7': 77, 'c70': 78, 'c78': 79, 'c82': 80, 'c83': 81, 'c85': 82, 'c86': 83, 'c87': 84, 'c90': 85, 'c91': 86, 'c92': 87, 'c93': 88, 'c95': 89, 'c99': 90, 'd': 91, 'd10 d12': 92, 'd11': 93, 'd15': 94, 'd17': 95, 'd19': 96, 'd20': 97, 'd21': 98, 'd26': 99, 'd28': 100, 'd30': 101, 'd33': 102, 'd35': 103, 'd36': 104, 'd37': 105, 'd45': 106, 'd46': 107, 'd47': 108, 'd48': 109, 'd49': 110, 'd50': 111, 'd56': 112, 'd6': 113, 'd7': 114, 'd9': 115, 'e10': 116, 'e101': 117, 'e12': 118, 'e121': 119, 'e17': 120, 'e24': 121, 'e25': 122, 'e31': 123, 'e33': 124, 'e34': 125, 'e36': 126, 'e38': 127, 'e40': 128, 'e44': 129, 'e46': 130, 'e49': 131, 'e50': 132, 'e58': 133, 'e63': 134, 'e67': 135, 'e68': 136, 'e77': 137, 'e8': 138, 'f e69': 139, 'f g63': 140, 'f g73': 141, 'f2': 142, 'f33': 143, 'f38': 144, 'f4': 145, 'g6': 146, 't': 147}\n"
          ]
        },
        {
          "output_type": "stream",
          "name": "stderr",
          "text": [
            "<ipython-input-14-fe06df1458c5>:5: SettingWithCopyWarning: \n",
            "A value is trying to be set on a copy of a slice from a DataFrame.\n",
            "Try using .loc[row_indexer,col_indexer] = value instead\n",
            "\n",
            "See the caveats in the documentation: https://pandas.pydata.org/pandas-docs/stable/user_guide/indexing.html#returning-a-view-versus-a-copy\n",
            "  data[column] = data[column].astype(str)\n",
            "<ipython-input-14-fe06df1458c5>:6: SettingWithCopyWarning: \n",
            "A value is trying to be set on a copy of a slice from a DataFrame.\n",
            "Try using .loc[row_indexer,col_indexer] = value instead\n",
            "\n",
            "See the caveats in the documentation: https://pandas.pydata.org/pandas-docs/stable/user_guide/indexing.html#returning-a-view-versus-a-copy\n",
            "  data[column] = encoder.fit_transform(data[column])\n",
            "<ipython-input-14-fe06df1458c5>:5: SettingWithCopyWarning: \n",
            "A value is trying to be set on a copy of a slice from a DataFrame.\n",
            "Try using .loc[row_indexer,col_indexer] = value instead\n",
            "\n",
            "See the caveats in the documentation: https://pandas.pydata.org/pandas-docs/stable/user_guide/indexing.html#returning-a-view-versus-a-copy\n",
            "  data[column] = data[column].astype(str)\n",
            "<ipython-input-14-fe06df1458c5>:6: SettingWithCopyWarning: \n",
            "A value is trying to be set on a copy of a slice from a DataFrame.\n",
            "Try using .loc[row_indexer,col_indexer] = value instead\n",
            "\n",
            "See the caveats in the documentation: https://pandas.pydata.org/pandas-docs/stable/user_guide/indexing.html#returning-a-view-versus-a-copy\n",
            "  data[column] = encoder.fit_transform(data[column])\n",
            "<ipython-input-14-fe06df1458c5>:5: SettingWithCopyWarning: \n",
            "A value is trying to be set on a copy of a slice from a DataFrame.\n",
            "Try using .loc[row_indexer,col_indexer] = value instead\n",
            "\n",
            "See the caveats in the documentation: https://pandas.pydata.org/pandas-docs/stable/user_guide/indexing.html#returning-a-view-versus-a-copy\n",
            "  data[column] = data[column].astype(str)\n",
            "<ipython-input-14-fe06df1458c5>:6: SettingWithCopyWarning: \n",
            "A value is trying to be set on a copy of a slice from a DataFrame.\n",
            "Try using .loc[row_indexer,col_indexer] = value instead\n",
            "\n",
            "See the caveats in the documentation: https://pandas.pydata.org/pandas-docs/stable/user_guide/indexing.html#returning-a-view-versus-a-copy\n",
            "  data[column] = encoder.fit_transform(data[column])\n"
          ]
        }
      ]
    },
    {
      "cell_type": "code",
      "source": [
        "def val(column,value):\n",
        "  return encoding[column][value]"
      ],
      "metadata": {
        "id": "tefgyxrh2jdg"
      },
      "execution_count": 15,
      "outputs": []
    },
    {
      "cell_type": "code",
      "source": [
        "X = data.drop('Survived',axis=1).drop('Age Group',axis=1)\n",
        "y = data['Survived']\n"
      ],
      "metadata": {
        "id": "T8uTQ72TTnLb"
      },
      "execution_count": 16,
      "outputs": []
    },
    {
      "cell_type": "code",
      "source": [
        "scaler = StandardScaler()"
      ],
      "metadata": {
        "id": "dbje-OZdYxV7"
      },
      "execution_count": 17,
      "outputs": []
    },
    {
      "cell_type": "code",
      "source": [
        "X = scaler.fit_transform(X)"
      ],
      "metadata": {
        "id": "vLdaUN5OYpxw"
      },
      "execution_count": 18,
      "outputs": []
    },
    {
      "cell_type": "code",
      "source": [
        "X_train, X_test, y_train, y_test = train_test_split(X, y, test_size=0.2, random_state=42)"
      ],
      "metadata": {
        "id": "MhAVJztRUm7m"
      },
      "execution_count": 19,
      "outputs": []
    },
    {
      "cell_type": "code",
      "source": [
        "gb_model = GradientBoostingClassifier()\n",
        "gb_model.fit(X_train, y_train)\n",
        "gb_pred = gb_model.predict(X_test)"
      ],
      "metadata": {
        "id": "TLyOKYa1a0gM"
      },
      "execution_count": 20,
      "outputs": []
    },
    {
      "cell_type": "code",
      "source": [
        "gb_accuracy = accuracy_score(y_test,gb_pred)\n",
        "print(\"Accuracy : \", gb_accuracy)"
      ],
      "metadata": {
        "colab": {
          "base_uri": "https://localhost:8080/"
        },
        "id": "OQvqgd2ra0d_",
        "outputId": "7633bff9-c44f-4c98-a661-e41b19f5801e"
      },
      "execution_count": 21,
      "outputs": [
        {
          "output_type": "stream",
          "name": "stdout",
          "text": [
            "Accuracy :  0.8268156424581006\n"
          ]
        }
      ]
    },
    {
      "cell_type": "code",
      "source": [
        "name = input(\"Enter your Name : \").lower()\n",
        "pclass = input(\"Enter your Pclass : \")\n",
        "sex = input(\"Enter your Sex : \").lower()\n",
        "age = input(\"Enter your Age : \")\n",
        "fare = input(\"Enter your Fare : \")\n",
        "cabin = input(\"Enter your Cabin : \").lower()"
      ],
      "metadata": {
        "id": "jAMZnj9T1XH3",
        "colab": {
          "base_uri": "https://localhost:8080/"
        },
        "outputId": "b3ec377c-5a00-4cc1-9247-c2269b6669f0"
      },
      "execution_count": 22,
      "outputs": [
        {
          "name": "stdout",
          "output_type": "stream",
          "text": [
            "Enter your Name : Thomas\n",
            "Enter your Pclass : 3\n",
            "Enter your Sex : male\n",
            "Enter your Age : 23\n",
            "Enter your Fare : 8.25\n",
            "Enter your Cabin : E46\n"
          ]
        }
      ]
    },
    {
      "cell_type": "code",
      "source": [
        "sex = val('Sex',sex)\n",
        "cabin = val('Cabin',cabin)\n"
      ],
      "metadata": {
        "id": "_IdcgD4O2Xbz"
      },
      "execution_count": 23,
      "outputs": []
    },
    {
      "cell_type": "code",
      "source": [
        "new_input = scaler.transform(pd.DataFrame([[pclass,sex,age,fare,cabin]]))"
      ],
      "metadata": {
        "id": "S0fVRVIL21Lo",
        "colab": {
          "base_uri": "https://localhost:8080/"
        },
        "outputId": "ef5f53df-98f3-4a02-d8c3-6a88ddaac2c2"
      },
      "execution_count": 24,
      "outputs": [
        {
          "output_type": "stream",
          "name": "stderr",
          "text": [
            "/usr/local/lib/python3.10/dist-packages/sklearn/base.py:439: UserWarning: X does not have valid feature names, but StandardScaler was fitted with feature names\n",
            "  warnings.warn(\n"
          ]
        }
      ]
    },
    {
      "cell_type": "code",
      "source": [
        "new_pred = gb_model.predict(new_input)"
      ],
      "metadata": {
        "id": "1m_zlfg82-pG"
      },
      "execution_count": 25,
      "outputs": []
    },
    {
      "cell_type": "code",
      "source": [
        "if new_pred == 1:\n",
        "  print(f\"The Passenger {name} will Survive\")\n",
        "else:\n",
        "  print(f\"The Passenger {name} will Not Survive\")"
      ],
      "metadata": {
        "id": "LQUz1Med3Hrw",
        "colab": {
          "base_uri": "https://localhost:8080/"
        },
        "outputId": "cba9f820-0d13-4a0b-bc6b-5b194ebca088"
      },
      "execution_count": 26,
      "outputs": [
        {
          "output_type": "stream",
          "name": "stdout",
          "text": [
            "The Passenger thomas will Not Survive\n"
          ]
        }
      ]
    }
  ]
}